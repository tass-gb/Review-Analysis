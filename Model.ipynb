{
 "cells": [
  {
   "cell_type": "code",
   "execution_count": null,
   "id": "5478984b",
   "metadata": {},
   "outputs": [
    {
     "data": {
      "text/plain": [
       "0"
      ]
     },
     "execution_count": 1,
     "metadata": {},
     "output_type": "execute_result"
    }
   ],
   "source": [
    "#install\n",
    "#import sys\n",
    "#import subprocess\n",
    "# Upgrade pip\n",
    "#subprocess.check_call([sys.executable, \"-m\", \"pip\", \"install\", \"--upgrade\", \"pip\"])\n",
    "# Install torch and transformers\n",
    "#subprocess.check_call([sys.executable, \"-m\", \"pip\", \"install\", \"torch\", \"transformers\"])\n"
   ]
  },
  {
   "cell_type": "code",
   "execution_count": null,
   "id": "f72abda3",
   "metadata": {},
   "outputs": [],
   "source": [
    "#imports\n",
    "import pandas as pd\n",
    "from sklearn.model_selection import train_test_split\n",
    "from sklearn.feature_extraction.text import TfidfVectorizer\n",
    "from sklearn.linear_model import LogisticRegression\n",
    "from sklearn.metrics import classification_report, confusion_matrix, accuracy_score\n",
    "import seaborn as sns\n",
    "import matplotlib.pyplot as plt\n",
    "from imblearn.over_sampling import RandomOverSampler\n",
    "from sklearn.model_selection import StratifiedKFold\n",
    "import numpy as np\n",
    "\n"
   ]
  },
  {
   "cell_type": "code",
   "execution_count": 1,
   "id": "5a3210af",
   "metadata": {},
   "outputs": [
    {
     "name": "stderr",
     "output_type": "stream",
     "text": [
      "c:\\Users\\User\\OneDrive\\Área de Trabalho\\data a\\Review-Analysis\\.venv\\Lib\\site-packages\\tqdm\\auto.py:21: TqdmWarning: IProgress not found. Please update jupyter and ipywidgets. See https://ipywidgets.readthedocs.io/en/stable/user_install.html\n",
      "  from .autonotebook import tqdm as notebook_tqdm\n"
     ]
    }
   ],
   "source": [
    "from transformers import AutoTokenizer, AutoModelForSequenceClassification\n",
    "import torch\n",
    "import torch.nn.functional as F\n",
    "from tqdm import tqdm"
   ]
  },
  {
   "cell_type": "code",
   "execution_count": 3,
   "id": "3c38b200",
   "metadata": {},
   "outputs": [
    {
     "name": "stdout",
     "output_type": "stream",
     "text": [
      "                         id  \\\n",
      "0  68b951e16796366d612c0a5a   \n",
      "1  68b9508a183d3a0e366f4055   \n",
      "2  68b93c80ca0e2a5da9e471f2   \n",
      "3  68b8afadbca99a540889a0eb   \n",
      "4  68b88f6f5a626c5041eea2c4   \n",
      "\n",
      "                                                text  rating  \\\n",
      "0  I ordered tshirt of 83£ and did a partial retu...       1   \n",
      "1  AWFUL! Still waiting for a refund that was app...       1   \n",
      "2  Love asos fast delivery and selection - but th...       4   \n",
      "3  Dreadful customer care. My order hasn’t arrive...       1   \n",
      "4  I ordered a baseball cap from ASOS, as I am a ...       1   \n",
      "\n",
      "                                      title  likes             date_published  \\\n",
      "0  Ordered tshirt of 83£ and did a partial…      0  2025-09-04 10:46:25+00:00   \n",
      "1                                     AWFUL      0  2025-09-04 10:40:42+00:00   \n",
      "2                          Great selection       0  2025-09-04 09:15:12+00:00   \n",
      "3                    Dreadful customer care      0  2025-09-03 23:14:21+00:00   \n",
      "4        I ordered a baseball cap from ASOS      0  2025-09-03 20:56:48+00:00   \n",
      "\n",
      "                 name  number_of_review country_code  \\\n",
      "0            MZ Iqbal                 2           GB   \n",
      "1            Danielle                68           GB   \n",
      "2                Elle                 3           GB   \n",
      "3  Charlotte, Swansea                 8           GB   \n",
      "4        Matty Edmond                 2           GB   \n",
      "\n",
      "                                          text_clean  \n",
      "0  i ordered tshirt of 83£ and did a partial retu...  \n",
      "1  awful! still waiting for a refund that was app...  \n",
      "2  love asos fast delivery and selection - but th...  \n",
      "3  dreadful customer care. my order hasn’t arrive...  \n",
      "4  i ordered a baseball cap from asos, as i am a ...  \n"
     ]
    }
   ],
   "source": [
    "# load CSV as df_model\n",
    "df_clean = pd.read_csv(\"asos_reviews_clean.csv\")\n",
    "print(df_clean.head())"
   ]
  },
  {
   "cell_type": "code",
   "execution_count": 4,
   "id": "aec8eac3",
   "metadata": {},
   "outputs": [],
   "source": [
    "df_model = df_clean.copy()"
   ]
  },
  {
   "cell_type": "code",
   "execution_count": 8,
   "id": "61ba33f6",
   "metadata": {},
   "outputs": [
    {
     "name": "stdout",
     "output_type": "stream",
     "text": [
      "   rating                                         text_clean\n",
      "0       1  i ordered tshirt of 83£ and did a partial retu...\n",
      "1       1  awful! still waiting for a refund that was app...\n",
      "2       4  love asos fast delivery and selection - but th...\n",
      "3       1  dreadful customer care. my order hasn’t arrive...\n",
      "4       1  i ordered a baseball cap from asos, as i am a ...\n"
     ]
    }
   ],
   "source": [
    "# Drop unwanted columns\n",
    "df_model = df_model.drop(\n",
    "    columns=[\n",
    "        \"id\",\n",
    "        \"text\",\n",
    "        \"title\",\n",
    "        \"likes\",\n",
    "        \"date_published\",\n",
    "        \"name\",\n",
    "        \"number_of_review\",\n",
    "        \"country_code\"\n",
    "    ]\n",
    ")\n",
    "\n",
    "\n",
    "# Check what remains\n",
    "print(df_model.head())\n"
   ]
  },
  {
   "cell_type": "markdown",
   "id": "2fcbb6ea",
   "metadata": {},
   "source": [
    "First Model TF-IDF + logistic regression model with 3 labels - positive, neutral, negative:"
   ]
  },
  {
   "cell_type": "code",
   "execution_count": 10,
   "id": "27ff5c7a",
   "metadata": {},
   "outputs": [],
   "source": [
    "# create sentiment labels from rating columns\n",
    "def rating_to_sentiment(r):\n",
    "    if r >= 4:\n",
    "        return \"positive\"\n",
    "    elif r == 3:\n",
    "        return \"neutral\"\n",
    "    else:\n",
    "        return \"negative\""
   ]
  },
  {
   "cell_type": "code",
   "execution_count": 11,
   "id": "c143fbe2",
   "metadata": {},
   "outputs": [],
   "source": [
    "# Apply to DataFrame\n",
    "df_model[\"label\"] = df_model[\"rating\"].apply(rating_to_sentiment)"
   ]
  },
  {
   "cell_type": "code",
   "execution_count": 12,
   "id": "56c85a27",
   "metadata": {},
   "outputs": [
    {
     "name": "stdout",
     "output_type": "stream",
     "text": [
      "   rating     label\n",
      "0       1  negative\n",
      "1       1  negative\n",
      "2       4  positive\n",
      "3       1  negative\n",
      "4       1  negative\n"
     ]
    }
   ],
   "source": [
    "# Quick check\n",
    "print(df_model[[\"rating\", \"label\"]].head())"
   ]
  },
  {
   "cell_type": "code",
   "execution_count": 13,
   "id": "f5625487",
   "metadata": {},
   "outputs": [
    {
     "name": "stdout",
     "output_type": "stream",
     "text": [
      "===== LOGISTIC REGRESSION METRICS =====\n",
      "Accuracy: 0.9423076923076923\n",
      "              precision    recall  f1-score   support\n",
      "\n",
      "    negative       0.94      1.00      0.97        49\n",
      "     neutral       0.00      0.00      0.00         1\n",
      "    positive       0.00      0.00      0.00         2\n",
      "\n",
      "    accuracy                           0.94        52\n",
      "   macro avg       0.31      0.33      0.32        52\n",
      "weighted avg       0.89      0.94      0.91        52\n",
      "\n"
     ]
    },
    {
     "data": {
      "image/png": "[encoded data removed]",
      "text/plain": [
       "<Figure size 640x480 with 2 Axes>"
      ]
     },
     "metadata": {},
     "output_type": "display_data"
    }
   ],
   "source": [
    "# Creating the model TF-IDF + logistic regression model\n",
    "\n",
    "# split data for TF-IDF + logistic regression model\n",
    "X = df_model[\"text_clean\"]  # features\n",
    "y = df_model[\"label\"]       # target\n",
    "\n",
    "X_train, X_test, y_train, y_test = train_test_split(\n",
    "    X, y, test_size=0.2, random_state=42, stratify=y\n",
    ")\n",
    "\n",
    "# TF-IDF transformation (chatgbt code help)\n",
    "vectorizer = TfidfVectorizer(ngram_range=(1,2))  # unigrams + bigrams\n",
    "X_train_tfidf = vectorizer.fit_transform(X_train)\n",
    "X_test_tfidf = vectorizer.transform(X_test)\n",
    "\n",
    "# handle imbalance (oversampling - there is much more negative reviews - chatgbt)\n",
    "ros = RandomOverSampler(random_state=42)\n",
    "X_train_res, y_train_res = ros.fit_resample(X_train_tfidf, y_train)\n",
    "\n",
    "# train logistic Regression\n",
    "lr_model = LogisticRegression(max_iter=1000, class_weight='balanced')\n",
    "lr_model.fit(X_train_res, y_train_res)\n",
    "\n",
    "# predict on test set\n",
    "y_pred = lr_model.predict(X_test_tfidf)\n",
    "\n",
    "# print evaluation metrics\n",
    "print(\"===== LOGISTIC REGRESSION METRICS =====\")\n",
    "print(\"Accuracy:\", accuracy_score(y_test, y_pred))\n",
    "print(classification_report(y_test, y_pred, zero_division=0)) # chatgbt said to me add zero_division to avoid warnings\n",
    "\n",
    "# Confusion matrix\n",
    "cm_lr = confusion_matrix(y_test, y_pred, labels=[\"positive\",\"neutral\",\"negative\"])\n",
    "sns.heatmap(cm_lr, annot=True, fmt=\"d\",\n",
    "            xticklabels=[\"positive\",\"neutral\",\"negative\"],\n",
    "            yticklabels=[\"positive\",\"neutral\",\"negative\"])\n",
    "plt.title(\"Logistic Regression Confusion Matrix\")\n",
    "plt.ylabel(\"True Label\")\n",
    "plt.xlabel(\"Predicted Label\")\n",
    "plt.show()\n"
   ]
  },
  {
   "cell_type": "markdown",
   "id": "afae0a45",
   "metadata": {},
   "source": [
    "Second model TF-IDF + logistic regression model (binary) - positive and negative only:"
   ]
  },
  {
   "cell_type": "code",
   "execution_count": 16,
   "id": "f950dc67",
   "metadata": {},
   "outputs": [
    {
     "name": "stdout",
     "output_type": "stream",
     "text": [
      "===== LOGISTIC REGRESSION METRICS =====\n",
      "Accuracy: 0.9807692307692307\n",
      "              precision    recall  f1-score   support\n",
      "\n",
      "    negative       0.98      1.00      0.99        50\n",
      "    positive       1.00      0.50      0.67         2\n",
      "\n",
      "    accuracy                           0.98        52\n",
      "   macro avg       0.99      0.75      0.83        52\n",
      "weighted avg       0.98      0.98      0.98        52\n",
      "\n"
     ]
    },
    {
     "data": {
      "image/png": "[encoded data removed]",
      "text/plain": [
       "<Figure size 640x480 with 2 Axes>"
      ]
     },
     "metadata": {},
     "output_type": "display_data"
    }
   ],
   "source": [
    "# testing label the data in positive and negative only and reduce test size to 0.1\n",
    "\n",
    "# creating new binary labels\n",
    "# Map rating to binary sentiment: positive vs negative\n",
    "def rating_to_binary_sentiment(r):\n",
    "    if r >= 4:\n",
    "        return \"positive\"\n",
    "    else:\n",
    "        return \"negative\"\n",
    "    \n",
    "df_model[\"label_binary\"] = df_model[\"rating\"].apply(rating_to_binary_sentiment)\n",
    "\n",
    "# training (small test size)\n",
    "X = df_model[\"text_clean\"]\n",
    "y = df_model[\"label_binary\"]\n",
    "X_train, X_test, y_train, y_test = train_test_split(\n",
    "    X, y, test_size=0.2, random_state=42, stratify=y\n",
    ")\n",
    "\n",
    "#TF-IDF transformer\n",
    "vectorizer = TfidfVectorizer(ngram_range=(1,2))\n",
    "X_train_tfidf = vectorizer.fit_transform(X_train)\n",
    "X_test_tfidf = vectorizer.transform(X_test)\n",
    "\n",
    "# handle imbalance\n",
    "ros = RandomOverSampler(random_state=42)\n",
    "X_train_res, y_train_res = ros.fit_resample(X_train_tfidf, y_train)\n",
    "\n",
    "# train logistic regression\n",
    "lr_model = LogisticRegression(max_iter=1000, class_weight='balanced')\n",
    "lr_model.fit(X_train_res, y_train_res)\n",
    "\n",
    "# Predict on test set\n",
    "y_pred = lr_model.predict(X_test_tfidf)\n",
    "\n",
    "# evaluation metrics\n",
    "print(\"===== LOGISTIC REGRESSION METRICS =====\")\n",
    "print(\"Accuracy:\", accuracy_score(y_test, y_pred))\n",
    "print(classification_report(y_test, y_pred, zero_division=0))\n",
    "\n",
    "# Confusion matrix\n",
    "cm_lr = confusion_matrix(y_test, y_pred, labels=[\"positive\",\"negative\"])\n",
    "sns.heatmap(cm_lr, annot=True, fmt=\"d\",\n",
    "            xticklabels=[\"positive\",\"negative\"],\n",
    "            yticklabels=[\"positive\",\"negative\"])\n",
    "plt.title(\"Logistic Regression Confusion Matrix\")\n",
    "plt.ylabel(\"True Label\")\n",
    "plt.xlabel(\"Predicted Label\")\n",
    "plt.show()\n",
    "\n"
   ]
  },
  {
   "cell_type": "markdown",
   "id": "47c6613f",
   "metadata": {},
   "source": [
    "third Model using Stratified 5-Fold Cross-Validation:"
   ]
  },
  {
   "cell_type": "code",
   "execution_count": 17,
   "id": "8b5289b7",
   "metadata": {},
   "outputs": [
    {
     "name": "stdout",
     "output_type": "stream",
     "text": [
      "===== STRATIFIED 5-FOLD CROSS-VALIDATION METRICS =====\n",
      "Average Accuracy: 0.94\n",
      "Average Precision: 0.89\n",
      "Average Recall: 0.94\n",
      "Average F1-score: 0.91\n"
     ]
    },
    {
     "data": {
      "image/png": "[encoded data removed]",
      "text/plain": [
       "<Figure size 640x480 with 2 Axes>"
      ]
     },
     "metadata": {},
     "output_type": "display_data"
    }
   ],
   "source": [
    "# Chatgpt code suggestion: Stratified 5-Fold Cross-Validation is a way to evaluate your model more reliably\n",
    "\n",
    "# creating new binary labels\n",
    "# Map rating to binary sentiment: positive vs negative\n",
    "def rating_to_binary_sentiment(r):\n",
    "    if r >= 4:\n",
    "        return \"positive\"\n",
    "    else:\n",
    "        return \"negative\"\n",
    "    \n",
    "df_model[\"label_binary\"] = df_model[\"rating\"].apply(rating_to_binary_sentiment)\n",
    "\n",
    "# Features and target\n",
    "X = df_model[\"text_clean\"].values\n",
    "y = df_model[\"label_binary\"].values\n",
    "\n",
    "\n",
    "#TF-IDF transformer\n",
    "vectorizer = TfidfVectorizer(ngram_range=(1,2))\n",
    "X_tfidf = vectorizer.fit_transform(X)\n",
    "\n",
    "# stratified 5-fold cross-validation\n",
    "skf = StratifiedKFold(n_splits=5, shuffle=True, random_state=42)\n",
    "\n",
    "all_accuracy = []\n",
    "all_precision = []\n",
    "all_recall = []\n",
    "all_f1 = []\n",
    "\n",
    "# Initialize a confusion matrix accumulator\n",
    "cm_total = np.zeros((2,2), dtype=int)\n",
    "labels = [\"positive\",\"negative\"]\n",
    "\n",
    "for train_index, test_index in skf.split(X_tfidf, y):\n",
    "    X_train, X_test = X_tfidf[train_index], X_tfidf[test_index]\n",
    "    y_train, y_test = y[train_index], y[test_index]\n",
    "\n",
    "# handle imbalance\n",
    "    ros = RandomOverSampler(random_state=42)\n",
    "    X_train_res, y_train_res = ros.fit_resample(X_train, y_train)\n",
    "\n",
    "# train logistic regression\n",
    "lr_model = LogisticRegression(max_iter=1000, class_weight='balanced')\n",
    "lr_model.fit(X_train_res, y_train_res)\n",
    "\n",
    "# Predict on test set\n",
    "y_pred = lr_model.predict(X_test)\n",
    "\n",
    "# evaluation metrics\n",
    "acc = accuracy_score(y_test, y_pred)\n",
    "report = classification_report(y_test, y_pred, labels=labels, output_dict=True, zero_division=0)\n",
    "    \n",
    "all_accuracy.append(acc)\n",
    "all_precision.append(report[\"weighted avg\"][\"precision\"])\n",
    "all_recall.append(report[\"weighted avg\"][\"recall\"])\n",
    "all_f1.append(report[\"weighted avg\"][\"f1-score\"])\n",
    "\n",
    "# Confusion matrix\n",
    "cm_total += confusion_matrix(y_test, y_pred, labels=labels)\n",
    "\n",
    "# display results\n",
    "print(\"===== STRATIFIED 5-FOLD CROSS-VALIDATION METRICS =====\")\n",
    "print(f\"Average Accuracy: {np.mean(all_accuracy):.2f}\")\n",
    "print(f\"Average Precision: {np.mean(all_precision):.2f}\")\n",
    "print(f\"Average Recall: {np.mean(all_recall):.2f}\")\n",
    "print(f\"Average F1-score: {np.mean(all_f1):.2f}\")\n",
    "\n",
    "# Confusion matrix heatmap\n",
    "sns.heatmap(cm_total, annot=True, fmt=\"d\", xticklabels=labels, yticklabels=labels)\n",
    "plt.title(\"Aggregated Confusion Matrix Across 5 Folds\")\n",
    "plt.ylabel(\"True Label\")\n",
    "plt.xlabel(\"Predicted Label\")\n",
    "plt.show()"
   ]
  },
  {
   "cell_type": "markdown",
   "id": "70a7ef9a",
   "metadata": {},
   "source": [
    "Given the number of rows and more negative reviews in the dataset, I do not expect this model to be able to predict positive reviews as well as negative."
   ]
  },
  {
   "cell_type": "markdown",
   "id": "04e91060",
   "metadata": {},
   "source": [
    "Using pre trained model to evaluate df_model:"
   ]
  },
  {
   "cell_type": "code",
   "execution_count": 18,
   "id": "20d8c5c1",
   "metadata": {},
   "outputs": [
    {
     "name": "stderr",
     "output_type": "stream",
     "text": [
      "Predicting Sentiment: 100%|██████████| 260/260 [01:10<00:00,  3.69it/s]\n"
     ]
    },
    {
     "name": "stdout",
     "output_type": "stream",
     "text": [
      "===== HUGGING FACE PRETRAINED SENTIMENT METRICS =====\n",
      "Accuracy: 0.9923076923076923\n",
      "              precision    recall  f1-score   support\n",
      "\n",
      "    negative       0.99      1.00      1.00       248\n",
      "    positive       1.00      0.83      0.91        12\n",
      "\n",
      "    accuracy                           0.99       260\n",
      "   macro avg       1.00      0.92      0.95       260\n",
      "weighted avg       0.99      0.99      0.99       260\n",
      "\n"
     ]
    },
    {
     "data": {
      "image/png": "[encoded data removed]",
      "text/plain": [
       "<Figure size 640x480 with 2 Axes>"
      ]
     },
     "metadata": {},
     "output_type": "display_data"
    }
   ],
   "source": [
    "# load pretrained model\n",
    "MODEL_NAME = \"cardiffnlp/twitter-roberta-base-sentiment\"\n",
    "tokenizer = AutoTokenizer.from_pretrained(MODEL_NAME)\n",
    "model = AutoModelForSequenceClassification.from_pretrained(MODEL_NAME)\n",
    "\n",
    "# Hugging Face model outputs 3 classes: 0=negative, 1=neutral, 2=positive\n",
    "hf_to_binary = {0: \"negative\", 1: \"negative\", 2: \"positive\"}  # merge neutral with negative for binary\n",
    "\n",
    "# preprocess text\n",
    "texts = df_model[\"text_clean\"].tolist()\n",
    "\n",
    "# run prediction\n",
    "pred_labels = []\n",
    "\n",
    "for text in tqdm(texts, desc=\"Predicting Sentiment\"):\n",
    "    inputs = tokenizer(text, return_tensors=\"pt\", truncation=True, max_length=512)\n",
    "    with torch.no_grad():\n",
    "        outputs = model(**inputs)\n",
    "        scores = F.softmax(outputs.logits, dim=1).numpy()[0]\n",
    "        predicted_class = np.argmax(scores)\n",
    "        pred_labels.append(hf_to_binary[predicted_class])\n",
    "\n",
    "df_model[\"hf_sentiment_pred\"] = pred_labels\n",
    "\n",
    "# evaluation binary\n",
    "# Map your rating to binary label for comparison\n",
    "df_model[\"label_binary\"] = df_model[\"rating\"].apply(lambda r: \"positive\" if r >= 4 else \"negative\")\n",
    "\n",
    "y_true = df_model[\"label_binary\"]\n",
    "y_pred = df_model[\"hf_sentiment_pred\"]\n",
    "\n",
    "print(\"===== HUGGING FACE PRETRAINED SENTIMENT METRICS =====\")\n",
    "print(\"Accuracy:\", accuracy_score(y_true, y_pred))\n",
    "print(classification_report(y_true, y_pred, zero_division=0))\n",
    "\n",
    "# Confusion matrix\n",
    "cm = confusion_matrix(y_true, y_pred, labels=[\"positive\",\"negative\"])\n",
    "sns.heatmap(cm, annot=True, fmt=\"d\", xticklabels=[\"positive\",\"negative\"], yticklabels=[\"positive\",\"negative\"])\n",
    "plt.title(\"Confusion Matrix (HF Pretrained Sentiment, Binary)\")\n",
    "plt.ylabel(\"True Label\")\n",
    "plt.xlabel(\"Predicted Label\")\n",
    "plt.show()"
   ]
  },
  {
   "cell_type": "markdown",
   "id": "ec94647c",
   "metadata": {},
   "source": [
    "\n",
    "Comparison table:\n",
    "| Model                             | Accuracy | Precision | Recall   | F1-score |\n",
    "| --------------------------------- | -------- | --------- | -------- | -------- |\n",
    "| Logistic Regression (hold-out)    | \\~0.98   | \\~0.99    | \\~0.75   | \\~0.83   |\n",
    "| Logistic Regression (5-fold CV)   | **0.94** | **0.89**  | **0.94** | **0.91** |\n",
    "|Hugging Face RoBERTa (pre-trained) | **0.99** | **1.00**  | **0.92** | **0.95** |\n",
    "\n"
   ]
  },
  {
   "cell_type": "markdown",
   "id": "5e9b3659",
   "metadata": {},
   "source": [
    "Interpretation:\n",
    "\n",
    "Hold-out Logistic Regression → looks strong (high accuracy), but this may be over-optimistic because of the small test set.\n",
    "\n",
    "Cross-validation Logistic Regression → more realistic: slightly lower accuracy (0.94), but balanced precision/recall.\n",
    "\n",
    "Pre-trained Transformer → best overall, with accuracy ~0.99, and very high F1. This shows the benefit of transfer learning even on small data.\n",
    "\n",
    "Hold-out = quick, single split (can be unstable on small data).\n",
    "\n",
    "Cross-validation = multiple splits, averaged performance (more reliable)."
   ]
  },
  {
   "cell_type": "code",
   "execution_count": null,
   "id": "8734ae93",
   "metadata": {},
   "outputs": [],
   "source": [
    "# chatgpt\n",
    "https://chatgpt.com/share/68d0f833-7070-8000-a5f8-0bb527d81395"
   ]
  }
 ],
 "metadata": {
  "kernelspec": {
   "display_name": ".venv",
   "language": "python",
   "name": "python3"
  },
  "language_info": {
   "codemirror_mode": {
    "name": "ipython",
    "version": 3
   },
   "file_extension": ".py",
   "mimetype": "text/x-python",
   "name": "python",
   "nbconvert_exporter": "python",
   "pygments_lexer": "ipython3",
   "version": "3.13.2"
  }
 },
 "nbformat": 4,
 "nbformat_minor": 5
}
