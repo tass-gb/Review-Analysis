{
 "cells": [
  {
   "cell_type": "code",
   "execution_count": null,
   "id": "f3e36b8e",
   "metadata": {},
   "outputs": [
    {
     "data": {
      "text/plain": [
       "0"
      ]
     },
     "execution_count": 33,
     "metadata": {},
     "output_type": "execute_result"
    }
   ],
   "source": [
    "import sys\n",
    "import subprocess\n",
    "subprocess.check_call([sys.executable, \"-m\", \"pip\", \"install\", \"--upgrade\", \"pip\"])\n",
    "subprocess.check_call([sys.executable, \"-m\", \"pip\", \"install\", \"requests\"])\n",
    "subprocess.check_call([sys.executable, \"-m\", \"pip\", \"install\", \"pandas\"])"
   ]
  },
  {
   "cell_type": "code",
   "execution_count": 17,
   "id": "ca9d9a7e",
   "metadata": {},
   "outputs": [],
   "source": [
    "import requests\n",
    "import time\n",
    "import random\n",
    "import json\n",
    "import re # regular expressions (pattern matching)\n",
    "import pandas as pd\n",
    "import sqlite3"
   ]
  },
  {
   "cell_type": "code",
   "execution_count": null,
   "id": "fb96b0fe",
   "metadata": {},
   "outputs": [
    {
     "name": "stdout",
     "output_type": "stream",
     "text": [
      "Page 2 fetched, 20 reviews.\n",
      "Page 3 fetched, 20 reviews.\n",
      "Page 4 fetched, 20 reviews.\n",
      "Page 5 fetched, 20 reviews.\n",
      "Page 6 fetched, 20 reviews.\n",
      "Page 7 fetched, 20 reviews.\n",
      "Page 8 fetched, 20 reviews.\n",
      "Page 9 fetched, 20 reviews.\n",
      "Page 10 fetched, 20 reviews.\n",
      "Page 11 fetched, 20 reviews.\n",
      "Page 12 fetched, 20 reviews.\n",
      "Page 13 fetched, 20 reviews.\n",
      "Page 14 fetched, 20 reviews.\n",
      "Saved 260 reviews to CSV\n"
     ]
    }
   ],
   "source": [
    "# Headers\n",
    "HEADER = {\n",
    "    \"accept\": \"*/*\",\n",
    "    \"accept-encoding\": \"gzip, deflate\",\n",
    "    \"accept-language\": \"en-GB,en-US;q=0.9,en;q=0.8\",\n",
    "    \"baggage\": \"sentry-environment=Production,sentry-release=businessunitprofile-consumersite%402.4845.0,sentry-public_key=7ac98d0742b24421b3d38448c4bf1184,sentry-trace_id=877b8e1f2533423cbdc92d5ea699cecd\",\n",
    "    \"cookie\": \"TP.uuid=0706ee8f-76f5-4442-b3a2-b3e3700ea380; OptanonAlertBoxClosed=2025-09-08T15:22:09.409Z; ajs_anonymous_id=098d2a00-1d3a-4d88-b314-85b77407ce79; amplitude_idundefinedtrustpilot.com=eyJvcHRPdXQiOmZhbHNlLCJzZXNzaW9uSWQiOm51bGwsImxhc3RFdmVudFRpbWUiOm51bGwsImV2ZW50SWQiOjAsImlkZW50aWZ5SWQiOjAsInNlcXVlbmNlTnVtYmVyIjowfQ==; lc_referrer_url=https%3A%2F%2Fwww.google.com%2F; fc_referrer_url=https%3A%2F%2Fwww.google.com%2F; _hjHasCachedUserAttributes=true; __adroll_fpc=090700da94544d0729382867614e2fb7-1757344931547; _fbp=fb.1.1757344932562.32325800100083557; _hjSessionUser_391767=eyJpZCI6Ijg0YmMxMjY4LTUzNzEtNWI0Mi1iNjg2LWM5NDVmODZlNDQ1NiIsImNyZWF0ZWQiOjE3NTczNDQ5Mjk2NTYsImV4aXN0aW5nIjp0cnVlfQ==; _hjSessionUser_398288=eyJpZCI6ImYxNGQxOGEwLWY5YjEtNTk0NS05YTAyLWQxY2FhNzdiNGVkOSIsImNyZWF0ZWQiOjE3NTc0MDk2ODcxMzgsImV4aXN0aW5nIjp0cnVlfQ==; _biz_uid=15963d115de44399b6007b6572bc93a7; _gid=GA1.2.201371872.1757409687; _biz_flagsA=%7B%22Version%22%3A1%2C%22ViewThrough%22%3A%221%22%2C%22XDomain%22%3A%221%22%7D; _biz_nA=3; _biz_pendingA=%5B%5D; _ga_3TEL80JZSG=GS2.1.s1757409687$o1$g1$t1757410655$j52$l0$h0; amplitude_id_cfe705a69359b8a4c0049d061ee5787btrustpilot.com=eyJkZXZpY2VJZCI6IjBmMzNhMWNmLTc2OWEtNDIwZi04ZDU5LWYwOWYxYjhiZDFiNFIiLCJ1c2VySWQiOm51bGwsIm9wdE91dCI6ZmFsc2UsInNlc3Npb25JZCI6MTc1NzQxMDA2NzMyOSwibGFzdEV2ZW50VGltZSI6MTc1NzQxMTYyODc1OSwiZXZlbnRJZCI6MiwiaWRlbnRpZnlJZCI6MSwic2VxdWVuY2VOdW1iZXIiOjN9; _csrf=GSISE9yn_UcknXuQ4tWofQV_; _ga=GA1.1.909402240.1757344931; _gcl_au=1.1.1745043198.1757344930.1881067649.1757412719.1757412718; tp-external-referrer=%7B%22referrer%22%3A%22https%3A%2F%2Fwww.google.com%2F%22%2C%22entry%22%3A%22https%3A%2F%2Fie.trustpilot.com%2F%22%7D; OptanonConsent=isGpcEnabled=0&datestamp=Tue+Sep+09+2025+14%3A55%3A17+GMT%2B0100+(Irish+Standard+Time)&version=202503.1.0&browserGpcFlag=0&isIABGlobal=false&hosts=&consentId=27ed8391-26b9-4508-a0c3-079183ae230c&interactionCount=1&isAnonUser=1&landingPath=NotLandingPage&groups=C0001%3A1%2CC0002%3A1%2CC0003%3A1%2CC0004%3A1&intType=1&geolocation=IE%3BL&AwaitingReconsent=false; __ar_v4=WB2AUOFO2ZFVFHJ5MEHUWO%3A20250908%3A16%7CIUNG4UKUTNBEXHEW2IT6BS%3A20250908%3A16%7C6U7APKK4E5F45KVW4MS4AL%3A20250908%3A16; _hjSession_391767=eyJpZCI6IjExNjc1NDg0LTJlODMtNGMzZS04MWIyLTliZTZmYTRlZWU5NSIsImMiOjE3NTc0MjcxNTg3MzMsInMiOjAsInIiOjAsInNiIjowLCJzciI6MCwic2UiOjAsImZzIjowLCJzcCI6MH0=; amplitude_id_67f7b7e6c8cb1b558b0c5bda2f747b07trustpilot.com=eyJkZXZpY2VJZCI6IjA5OGQyYTAwLTFkM2EtNGQ4OC1iMzE0LTg1Yjc3NDA3Y2U3OSIsInVzZXJJZCI6bnVsbCwib3B0T3V0IjpmYWxzZSwic2Vzc2lvbklkIjoxNzU3NDI4NjM0OTY3LCJsYXN0RXZlbnRUaW1lIjoxNzU3NDI5MzU2Njk3LCJldmVudElkIjo1NSwiaWRlbnRpZnlJZCI6OCwic2VxdWVuY2VOdW1iZXIiOjYzfQ==; _ga_11HBWMC274=GS2.1.s1757425910$o8$g1$t1757429356$j31$l0$h0\",\n",
    "    \"newrelic\": \"eyJ2IjpbMCwxXSwiZCI6eyJ0eSI6IkJyb3dzZXIiLCJhYyI6IjQzODU4ODciLCJhcCI6IjUzODY4MjQ5OSIsImlkIjoiMmQxZmI0ODJjZTdlOWI4YSIsInRyIjoiNzUwMWEzZjVkZDliZWZhY2MyOTA3ODA4NWFkNThmNjEiLCJ0aSI6MTc1NzQyOTM4MTE5MX19\",\n",
    "    \"priority\": \"u=1, i\",\n",
    "    \"referer\": \"https://ie.trustpilot.com/review/www.asos.com?page=2\",\n",
    "    \"sec-fetch-dest\": \"empty\",\n",
    "    \"sec-fetch-mode\": \"cors\",\n",
    "    \"sec-fetch-site\": \"same-origin\",\n",
    "    \"sentry-trace\": \"877b8e1f2533423cbdc92d5ea699cecd-aa8c8d2f9d573f99\",\n",
    "    \"traceparent\": \"00-7501a3f5dd9befacc29078085ad58f61-2d1fb482ce7e9b8a-01\",\n",
    "    \"tracestate\": \"4385887@nr=0-1-4385887-538682499-2d1fb482ce7e9b8a----1757429381191\",\n",
    "    \"user-agent\": \"Mozilla/5.0 (Macintosh; Intel Mac OS X 10_15_7) AppleWebKit/605.1.15 (KHTML, like Gecko) Version/18.5 Safari/605.1.15\",\n",
    "    \"x-nextjs-data\": \"1\"\n",
    "}\n",
    "\n",
    "\n",
    "all_reviews = []\n",
    "\n",
    "# Target: ASOS reviews, pages 2 to 15\n",
    "target = 'www.asos.com'\n",
    "\n",
    "for i in range(2, 15):  # pages 2 to 15\n",
    "    url = f'https://ie.trustpilot.com/_next/data/businessunitprofile-consumersite-2.4845.0/review/www.asos.com.json?page={i}&businessUnit={target}'\n",
    "    \n",
    "    resp = requests.get(url, headers=HEADER)\n",
    "    if resp.status_code != 200:\n",
    "        print(f\"Failed to fetch page {i}\")\n",
    "        continue\n",
    "    \n",
    "    res = resp.json()\n",
    "    \n",
    "    # Extract reviews from JSON\n",
    "    reviews = res.get('pageProps', {}).get('reviews', [])\n",
    "    all_reviews.extend(reviews)\n",
    "    \n",
    "    print(f'Page {i} fetched, {len(reviews)} reviews.')\n",
    "    \n",
    "    time.sleep(1)  # polite delay to avoid being blocked\n",
    "\n",
    "# Normalize into DataFrame\n",
    "df = pd.json_normalize(all_reviews)\n",
    "df.to_csv('asos_reviews.csv', index=False)\n",
    "\n",
    "print(f\"Saved {len(all_reviews)} reviews to CSV\")\n"
   ]
  },
  {
   "cell_type": "code",
   "execution_count": 4,
   "id": "321cdc62",
   "metadata": {},
   "outputs": [
    {
     "name": "stdout",
     "output_type": "stream",
     "text": [
      "                         id  filtered  pending  \\\n",
      "0  68b951e16796366d612c0a5a     False    False   \n",
      "1  68b9508a183d3a0e366f4055     False    False   \n",
      "2  68b93c80ca0e2a5da9e471f2     False    False   \n",
      "3  68b8afadbca99a540889a0eb     False    False   \n",
      "4  68b88f6f5a626c5041eea2c4     False    False   \n",
      "\n",
      "                                                text  rating  \\\n",
      "0  I ordered tshirt of 83£ and did a partial retu...       1   \n",
      "1  AWFUL! Still waiting for a refund that was app...       1   \n",
      "2  Love asos fast delivery and selection - but th...       4   \n",
      "3  Dreadful customer care. My order hasn’t arrive...       1   \n",
      "4  I ordered a baseball cap from ASOS, as I am a ...       1   \n",
      "\n",
      "                                      title  likes   source  report  \\\n",
      "0  Ordered tshirt of 83£ and did a partial…      0  Organic     NaN   \n",
      "1                                     AWFUL      0  Organic     NaN   \n",
      "2                          Great selection       0  Organic     NaN   \n",
      "3                    Dreadful customer care      0  Organic     NaN   \n",
      "4        I ordered a baseball cap from ASOS      0  Organic     NaN   \n",
      "\n",
      "   hasUnhandledReports  ...       dates.publishedDate  dates.updatedDate  \\\n",
      "0                False  ...  2025-09-04T10:46:25.000Z                NaN   \n",
      "1                False  ...  2025-09-04T10:40:42.000Z                NaN   \n",
      "2                False  ...  2025-09-04T09:15:12.000Z                NaN   \n",
      "3                False  ...  2025-09-03T23:14:21.000Z                NaN   \n",
      "4                False  ...  2025-09-03T20:56:48.000Z                NaN   \n",
      "\n",
      "   dates.submittedDate               consumer.id consumer.displayName  \\\n",
      "0                  NaN  686e4d994e662d62b6628580             MZ Iqbal   \n",
      "1                  NaN  5be5c5715483f4b8a9eca376             Danielle   \n",
      "2                  NaN  68b93b6acc7c940c0350ce77                 Elle   \n",
      "3                  NaN  53ed24dd000064000184a7b7   Charlotte, Swansea   \n",
      "4                  NaN  5d0922439522f8117094f6bd         Matty Edmond   \n",
      "\n",
      "                                   consumer.imageUrl  \\\n",
      "0  https://user-images.trustpilot.com/686e4d994e6...   \n",
      "1                                                NaN   \n",
      "2  https://user-images.trustpilot.com/68b93b6acc7...   \n",
      "3                                                NaN   \n",
      "4  https://user-images.trustpilot.com/5d092243952...   \n",
      "\n",
      "   consumer.numberOfReviews  consumer.countryCode consumer.hasImage  \\\n",
      "0                         2                    GB              True   \n",
      "1                        68                    GB             False   \n",
      "2                         3                    GB              True   \n",
      "3                         8                    GB             False   \n",
      "4                         2                    GB              True   \n",
      "\n",
      "  consumer.isVerified  \n",
      "0               False  \n",
      "1               False  \n",
      "2               False  \n",
      "3               False  \n",
      "4               False  \n",
      "\n",
      "[5 rows x 34 columns]\n"
     ]
    }
   ],
   "source": [
    "# load CSV and print head\n",
    "df = pd.read_csv('asos_reviews.csv')\n",
    "print(df.head())"
   ]
  },
  {
   "cell_type": "code",
   "execution_count": 5,
   "id": "aca5b34d",
   "metadata": {},
   "outputs": [
    {
     "name": "stdout",
     "output_type": "stream",
     "text": [
      "(260, 34)\n"
     ]
    }
   ],
   "source": [
    "# print number of rows and collumns\n",
    "print(df.shape)"
   ]
  },
  {
   "cell_type": "code",
   "execution_count": 6,
   "id": "2d46b216",
   "metadata": {},
   "outputs": [
    {
     "name": "stdout",
     "output_type": "stream",
     "text": [
      "['id', 'filtered', 'pending', 'text', 'rating', 'title', 'likes', 'source', 'report', 'hasUnhandledReports', 'reply', 'consumersReviewCountOnSameDomain', 'consumersReviewCountOnSameLocation', 'productReviews', 'language', 'location', 'labels.merged', 'labels.verification.isVerified', 'labels.verification.createdDateTime', 'labels.verification.reviewSourceName', 'labels.verification.verificationSource', 'labels.verification.verificationLevel', 'labels.verification.hasDachExclusion', 'dates.experiencedDate', 'dates.publishedDate', 'dates.updatedDate', 'dates.submittedDate', 'consumer.id', 'consumer.displayName', 'consumer.imageUrl', 'consumer.numberOfReviews', 'consumer.countryCode', 'consumer.hasImage', 'consumer.isVerified']\n"
     ]
    }
   ],
   "source": [
    "# print collumns name\n",
    "print(df.columns.tolist())"
   ]
  },
  {
   "cell_type": "code",
   "execution_count": 7,
   "id": "77d8b1d8",
   "metadata": {},
   "outputs": [
    {
     "name": "stdout",
     "output_type": "stream",
     "text": [
      "0    https://user-images.trustpilot.com/686e4d994e6...\n",
      "1                                                  NaN\n",
      "2    https://user-images.trustpilot.com/68b93b6acc7...\n",
      "3                                                  NaN\n",
      "4    https://user-images.trustpilot.com/5d092243952...\n",
      "Name: consumer.imageUrl, dtype: object\n"
     ]
    }
   ],
   "source": [
    "# check what is in column consumer image\n",
    "print(df['consumer.imageUrl'].head(5))"
   ]
  },
  {
   "cell_type": "code",
   "execution_count": 8,
   "id": "10773392",
   "metadata": {},
   "outputs": [
    {
     "name": "stdout",
     "output_type": "stream",
     "text": [
      "<class 'pandas.core.frame.DataFrame'>\n",
      "RangeIndex: 260 entries, 0 to 259\n",
      "Data columns (total 34 columns):\n",
      " #   Column                                  Non-Null Count  Dtype  \n",
      "---  ------                                  --------------  -----  \n",
      " 0   id                                      260 non-null    object \n",
      " 1   filtered                                260 non-null    bool   \n",
      " 2   pending                                 260 non-null    bool   \n",
      " 3   text                                    260 non-null    object \n",
      " 4   rating                                  260 non-null    int64  \n",
      " 5   title                                   260 non-null    object \n",
      " 6   likes                                   260 non-null    int64  \n",
      " 7   source                                  260 non-null    object \n",
      " 8   report                                  0 non-null      float64\n",
      " 9   hasUnhandledReports                     260 non-null    bool   \n",
      " 10  reply                                   0 non-null      float64\n",
      " 11  consumersReviewCountOnSameDomain        260 non-null    int64  \n",
      " 12  consumersReviewCountOnSameLocation      0 non-null      float64\n",
      " 13  productReviews                          260 non-null    object \n",
      " 14  language                                260 non-null    object \n",
      " 15  location                                0 non-null      float64\n",
      " 16  labels.merged                           0 non-null      float64\n",
      " 17  labels.verification.isVerified          260 non-null    bool   \n",
      " 18  labels.verification.createdDateTime     260 non-null    object \n",
      " 19  labels.verification.reviewSourceName    260 non-null    object \n",
      " 20  labels.verification.verificationSource  260 non-null    object \n",
      " 21  labels.verification.verificationLevel   260 non-null    object \n",
      " 22  labels.verification.hasDachExclusion    260 non-null    bool   \n",
      " 23  dates.experiencedDate                   260 non-null    object \n",
      " 24  dates.publishedDate                     260 non-null    object \n",
      " 25  dates.updatedDate                       11 non-null     object \n",
      " 26  dates.submittedDate                     0 non-null      float64\n",
      " 27  consumer.id                             260 non-null    object \n",
      " 28  consumer.displayName                    260 non-null    object \n",
      " 29  consumer.imageUrl                       80 non-null     object \n",
      " 30  consumer.numberOfReviews                260 non-null    int64  \n",
      " 31  consumer.countryCode                    260 non-null    object \n",
      " 32  consumer.hasImage                       260 non-null    bool   \n",
      " 33  consumer.isVerified                     260 non-null    bool   \n",
      "dtypes: bool(7), float64(6), int64(4), object(17)\n",
      "memory usage: 56.8+ KB\n",
      "None\n"
     ]
    }
   ],
   "source": [
    "\n",
    "# print data type and Null values\n",
    "print(df.info())"
   ]
  },
  {
   "cell_type": "code",
   "execution_count": null,
   "id": "d6c7ccaa",
   "metadata": {},
   "outputs": [],
   "source": [
    "# copy df\n",
    "df_clean = df.copy()\n"
   ]
  },
  {
   "cell_type": "code",
   "execution_count": 10,
   "id": "317a42d2",
   "metadata": {},
   "outputs": [
    {
     "name": "stdout",
     "output_type": "stream",
     "text": [
      "Index(['id', 'text', 'rating', 'title', 'likes', 'dates.publishedDate',\n",
      "       'consumer.displayName', 'consumer.numberOfReviews',\n",
      "       'consumer.countryCode'],\n",
      "      dtype='object')\n"
     ]
    }
   ],
   "source": [
    "# List of columns to drop\n",
    "cols_to_drop = [\n",
    "    'filtered', 'pending', 'source', 'report', 'hasUnhandledReports', 'reply',\n",
    "    'consumersReviewCountOnSameDomain', 'consumersReviewCountOnSameLocation',\n",
    "    'productReviews', 'language', 'location', 'labels.merged',\n",
    "    'labels.verification.isVerified', 'labels.verification.createdDateTime',\n",
    "    'labels.verification.reviewSourceName', 'labels.verification.verificationSource',\n",
    "    'labels.verification.verificationLevel', 'labels.verification.hasDachExclusion',\n",
    "    'dates.experiencedDate', 'dates.updatedDate', 'dates.submittedDate',\n",
    "    'consumer.isVerified', 'consumer.id', 'consumer.imageUrl','consumer.hasImage'\n",
    "    \n",
    "]\n",
    "\n",
    "# Drop columns\n",
    "df_clean = df_clean.drop(columns=cols_to_drop, errors=\"ignore\")\n",
    "\n",
    "# Check remaining columns\n",
    "print(df_clean.columns)"
   ]
  },
  {
   "cell_type": "code",
   "execution_count": null,
   "id": "b0e0c6f6",
   "metadata": {},
   "outputs": [
    {
     "name": "stdout",
     "output_type": "stream",
     "text": [
      "<class 'pandas.core.frame.DataFrame'>\n",
      "RangeIndex: 260 entries, 0 to 259\n",
      "Data columns (total 9 columns):\n",
      " #   Column                    Non-Null Count  Dtype \n",
      "---  ------                    --------------  ----- \n",
      " 0   id                        260 non-null    object\n",
      " 1   text                      260 non-null    object\n",
      " 2   rating                    260 non-null    int64 \n",
      " 3   title                     260 non-null    object\n",
      " 4   likes                     260 non-null    int64 \n",
      " 5   dates.publishedDate       260 non-null    object\n",
      " 6   consumer.displayName      260 non-null    object\n",
      " 7   consumer.numberOfReviews  260 non-null    int64 \n",
      " 8   consumer.countryCode      260 non-null    object\n",
      "dtypes: int64(3), object(6)\n",
      "memory usage: 18.4+ KB\n"
     ]
    }
   ],
   "source": [
    "# checking change\n",
    "df_clean.info()"
   ]
  },
  {
   "cell_type": "code",
   "execution_count": 14,
   "id": "3014e29e",
   "metadata": {},
   "outputs": [],
   "source": [
    "# change columns name\n",
    "df_clean = df_clean.rename(columns={\n",
    "    \"dates.publishedDate\": \"date_published\",\n",
    "    \"consumer.numberOfReviews\": \"number_of_review\",\n",
    "    \"consumer.countryCode\": \"country_code\",\n",
    "    \"consumer.displayName\":\"name\"\n",
    "})\n",
    "\n",
    "# change date_published (object) columns to datetime\n",
    "df_clean[\"date_published\"] = pd.to_datetime(df_clean[\"date_published\"], errors=\"coerce\")\n"
   ]
  },
  {
   "cell_type": "code",
   "execution_count": null,
   "id": "f069a5dd",
   "metadata": {},
   "outputs": [
    {
     "name": "stdout",
     "output_type": "stream",
     "text": [
      "<class 'pandas.core.frame.DataFrame'>\n",
      "RangeIndex: 260 entries, 0 to 259\n",
      "Data columns (total 9 columns):\n",
      " #   Column            Non-Null Count  Dtype              \n",
      "---  ------            --------------  -----              \n",
      " 0   id                260 non-null    object             \n",
      " 1   text              260 non-null    object             \n",
      " 2   rating            260 non-null    int64              \n",
      " 3   title             260 non-null    object             \n",
      " 4   likes             260 non-null    int64              \n",
      " 5   date_published    260 non-null    datetime64[ns, UTC]\n",
      " 6   name              260 non-null    object             \n",
      " 7   number_of_review  260 non-null    int64              \n",
      " 8   country_code      260 non-null    object             \n",
      "dtypes: datetime64[ns, UTC](1), int64(3), object(5)\n",
      "memory usage: 18.4+ KB\n"
     ]
    }
   ],
   "source": [
    "# checking change\n",
    "# ns → nanosecond precision \n",
    "# UTC → the datetimes are timezone-aware, stored in Coordinated Universal Time.\n",
    "df_clean.info()"
   ]
  },
  {
   "cell_type": "code",
   "execution_count": null,
   "id": "322fffb7",
   "metadata": {},
   "outputs": [
    {
     "name": "stdout",
     "output_type": "stream",
     "text": [
      "                                                text  \\\n",
      "0  I ordered tshirt of 83£ and did a partial retu...   \n",
      "1  AWFUL! Still waiting for a refund that was app...   \n",
      "2  Love asos fast delivery and selection - but th...   \n",
      "3  Dreadful customer care. My order hasn’t arrive...   \n",
      "4  I ordered a baseball cap from ASOS, as I am a ...   \n",
      "\n",
      "                                          text_clean  \n",
      "0  i ordered tshirt of 83£ and did a partial retu...  \n",
      "1  awful! still waiting for a refund that was app...  \n",
      "2  love asos fast delivery and selection - but th...  \n",
      "3  dreadful customer care. my order hasn’t arrive...  \n",
      "4  i ordered a baseball cap from asos, as i am a ...  \n"
     ]
    }
   ],
   "source": [
    "\n",
    "# clean text column\n",
    "def clean_text(text):\n",
    "    if pd.isna(text):\n",
    "        return \"\"\n",
    "    # lowercase\n",
    "    text = text.lower()\n",
    "    # remove URLs\n",
    "    # re (regular expressions) library\n",
    "    text = re.sub(r'http\\S+|www\\S+|https\\S+', '', text)\n",
    "    return text\n",
    "\n",
    "# Apply cleaning and create new column\n",
    "df_clean[\"text_clean\"] = df_clean[\"text\"].apply(clean_text)\n",
    "\n",
    "# Check result\n",
    "print(df_clean[[\"text\", \"text_clean\"]].head())\n"
   ]
  },
  {
   "cell_type": "code",
   "execution_count": null,
   "id": "57402469",
   "metadata": {},
   "outputs": [],
   "source": []
  }
 ],
 "metadata": {
  "kernelspec": {
   "display_name": ".venv",
   "language": "python",
   "name": "python3"
  },
  "language_info": {
   "codemirror_mode": {
    "name": "ipython",
    "version": 3
   },
   "file_extension": ".py",
   "mimetype": "text/x-python",
   "name": "python",
   "nbconvert_exporter": "python",
   "pygments_lexer": "ipython3",
   "version": "3.13.2"
  }
 },
 "nbformat": 4,
 "nbformat_minor": 5
}
